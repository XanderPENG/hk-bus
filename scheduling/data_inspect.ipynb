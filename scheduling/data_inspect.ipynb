{
 "cells": [
  {
   "cell_type": "code",
   "id": "initial_id",
   "metadata": {
    "collapsed": true,
    "ExecuteTime": {
     "end_time": "2024-10-19T00:23:16.380979Z",
     "start_time": "2024-10-19T00:23:16.363969Z"
    }
   },
   "source": [
    "from itertools import count\n",
    "\n",
    "import numpy as np\n",
    "import pandas as pd\n",
    "import matplotlib.pyplot as plt\n",
    "import importlib\n",
    "\n",
    "from snowballstemmer import algorithms\n",
    "\n",
    "import bus_indentifier\n",
    "from bus_indentifier import Eta, BusLineEta\n",
    "\n",
    "from ortools.linear_solver import pywraplp"
   ],
   "outputs": [],
   "execution_count": 64
  },
  {
   "cell_type": "code",
   "id": "62666cc3",
   "metadata": {
    "ExecuteTime": {
     "end_time": "2024-10-19T00:23:14.670809Z",
     "start_time": "2024-10-19T00:23:14.660574Z"
    }
   },
   "source": [
    "# Reimport the bus_indentifier module to get the latest changes\n",
    "importlib.reload(bus_indentifier)\n"
   ],
   "outputs": [
    {
     "data": {
      "text/plain": [
       "<module 'bus_indentifier' from 'F:\\\\gitRepository\\\\hk-bus\\\\scheduling\\\\bus_indentifier.py'>"
      ]
     },
     "execution_count": 63,
     "metadata": {},
     "output_type": "execute_result"
    }
   ],
   "execution_count": 63
  },
  {
   "cell_type": "code",
   "id": "62a375489f11fc66",
   "metadata": {
    "ExecuteTime": {
     "end_time": "2024-10-19T00:23:18.295502Z",
     "start_time": "2024-10-19T00:23:18.269986Z"
    }
   },
   "source": [
    "# Load the data\n",
    "data = pd.read_csv('../data/input/test/oneLineOneDayETA.csv')\n",
    "data"
   ],
   "outputs": [
    {
     "data": {
      "text/plain": [
       "       co                time  route dir  service_type  seq      dest  \\\n",
       "0     KMB  2024-09-18-10-33-25  278K   O             1    1  粉嶺站(循環線)   \n",
       "1     KMB  2024-09-18-10-33-25  278K   O             1    1  粉嶺站(循環線)   \n",
       "2     KMB  2024-09-18-10-33-25  278K   O             1    1  粉嶺站(循環線)   \n",
       "3     KMB  2024-09-18-10-33-25  278K   O             1    2  粉嶺站(循環線)   \n",
       "4     KMB  2024-09-18-10-33-25  278K   O             1    2  粉嶺站(循環線)   \n",
       "...   ...                  ...   ...  ..           ...  ...       ...   \n",
       "1858  KMB  2024-09-18-17-12-38  278K   O             1    8  粉嶺站(循環線)   \n",
       "1859  KMB  2024-09-18-17-12-38  278K   O             1    8  粉嶺站(循環線)   \n",
       "1860  KMB  2024-09-18-17-12-38  278K   O             1    9  粉嶺站(循環線)   \n",
       "1861  KMB  2024-09-18-17-12-38  278K   O             1    9  粉嶺站(循環線)   \n",
       "1862  KMB  2024-09-18-17-12-38  278K   O             1    9  粉嶺站(循環線)   \n",
       "\n",
       "      eta_seq                        eta   rmk                  timestamp  \n",
       "0           1  2024-09-18T10:37:00+08:00  原定班次  2024-09-18T10:33:16+08:00  \n",
       "1           2  2024-09-18T10:45:00+08:00  原定班次  2024-09-18T10:33:16+08:00  \n",
       "2           3  2024-09-18T10:52:00+08:00  原定班次  2024-09-18T10:33:16+08:00  \n",
       "3           1  2024-09-18T10:37:00+08:00  原定班次  2024-09-18T10:33:16+08:00  \n",
       "4           2  2024-09-18T10:45:00+08:00  原定班次  2024-09-18T10:33:16+08:00  \n",
       "...       ...                        ...   ...                        ...  \n",
       "1858        2  2024-09-18T17:24:43+08:00  原定班次  2024-09-18T17:12:13+08:00  \n",
       "1859        3  2024-09-18T17:34:43+08:00  原定班次  2024-09-18T17:12:13+08:00  \n",
       "1860        4  2024-09-18T17:16:42+08:00   NaN  2024-09-18T17:12:13+08:00  \n",
       "1861        5  2024-09-18T17:26:34+08:00  原定班次  2024-09-18T17:12:13+08:00  \n",
       "1862        6  2024-09-18T17:36:34+08:00  原定班次  2024-09-18T17:12:13+08:00  \n",
       "\n",
       "[1863 rows x 11 columns]"
      ],
      "text/html": [
       "<div>\n",
       "<style scoped>\n",
       "    .dataframe tbody tr th:only-of-type {\n",
       "        vertical-align: middle;\n",
       "    }\n",
       "\n",
       "    .dataframe tbody tr th {\n",
       "        vertical-align: top;\n",
       "    }\n",
       "\n",
       "    .dataframe thead th {\n",
       "        text-align: right;\n",
       "    }\n",
       "</style>\n",
       "<table border=\"1\" class=\"dataframe\">\n",
       "  <thead>\n",
       "    <tr style=\"text-align: right;\">\n",
       "      <th></th>\n",
       "      <th>co</th>\n",
       "      <th>time</th>\n",
       "      <th>route</th>\n",
       "      <th>dir</th>\n",
       "      <th>service_type</th>\n",
       "      <th>seq</th>\n",
       "      <th>dest</th>\n",
       "      <th>eta_seq</th>\n",
       "      <th>eta</th>\n",
       "      <th>rmk</th>\n",
       "      <th>timestamp</th>\n",
       "    </tr>\n",
       "  </thead>\n",
       "  <tbody>\n",
       "    <tr>\n",
       "      <th>0</th>\n",
       "      <td>KMB</td>\n",
       "      <td>2024-09-18-10-33-25</td>\n",
       "      <td>278K</td>\n",
       "      <td>O</td>\n",
       "      <td>1</td>\n",
       "      <td>1</td>\n",
       "      <td>粉嶺站(循環線)</td>\n",
       "      <td>1</td>\n",
       "      <td>2024-09-18T10:37:00+08:00</td>\n",
       "      <td>原定班次</td>\n",
       "      <td>2024-09-18T10:33:16+08:00</td>\n",
       "    </tr>\n",
       "    <tr>\n",
       "      <th>1</th>\n",
       "      <td>KMB</td>\n",
       "      <td>2024-09-18-10-33-25</td>\n",
       "      <td>278K</td>\n",
       "      <td>O</td>\n",
       "      <td>1</td>\n",
       "      <td>1</td>\n",
       "      <td>粉嶺站(循環線)</td>\n",
       "      <td>2</td>\n",
       "      <td>2024-09-18T10:45:00+08:00</td>\n",
       "      <td>原定班次</td>\n",
       "      <td>2024-09-18T10:33:16+08:00</td>\n",
       "    </tr>\n",
       "    <tr>\n",
       "      <th>2</th>\n",
       "      <td>KMB</td>\n",
       "      <td>2024-09-18-10-33-25</td>\n",
       "      <td>278K</td>\n",
       "      <td>O</td>\n",
       "      <td>1</td>\n",
       "      <td>1</td>\n",
       "      <td>粉嶺站(循環線)</td>\n",
       "      <td>3</td>\n",
       "      <td>2024-09-18T10:52:00+08:00</td>\n",
       "      <td>原定班次</td>\n",
       "      <td>2024-09-18T10:33:16+08:00</td>\n",
       "    </tr>\n",
       "    <tr>\n",
       "      <th>3</th>\n",
       "      <td>KMB</td>\n",
       "      <td>2024-09-18-10-33-25</td>\n",
       "      <td>278K</td>\n",
       "      <td>O</td>\n",
       "      <td>1</td>\n",
       "      <td>2</td>\n",
       "      <td>粉嶺站(循環線)</td>\n",
       "      <td>1</td>\n",
       "      <td>2024-09-18T10:37:00+08:00</td>\n",
       "      <td>原定班次</td>\n",
       "      <td>2024-09-18T10:33:16+08:00</td>\n",
       "    </tr>\n",
       "    <tr>\n",
       "      <th>4</th>\n",
       "      <td>KMB</td>\n",
       "      <td>2024-09-18-10-33-25</td>\n",
       "      <td>278K</td>\n",
       "      <td>O</td>\n",
       "      <td>1</td>\n",
       "      <td>2</td>\n",
       "      <td>粉嶺站(循環線)</td>\n",
       "      <td>2</td>\n",
       "      <td>2024-09-18T10:45:00+08:00</td>\n",
       "      <td>原定班次</td>\n",
       "      <td>2024-09-18T10:33:16+08:00</td>\n",
       "    </tr>\n",
       "    <tr>\n",
       "      <th>...</th>\n",
       "      <td>...</td>\n",
       "      <td>...</td>\n",
       "      <td>...</td>\n",
       "      <td>...</td>\n",
       "      <td>...</td>\n",
       "      <td>...</td>\n",
       "      <td>...</td>\n",
       "      <td>...</td>\n",
       "      <td>...</td>\n",
       "      <td>...</td>\n",
       "      <td>...</td>\n",
       "    </tr>\n",
       "    <tr>\n",
       "      <th>1858</th>\n",
       "      <td>KMB</td>\n",
       "      <td>2024-09-18-17-12-38</td>\n",
       "      <td>278K</td>\n",
       "      <td>O</td>\n",
       "      <td>1</td>\n",
       "      <td>8</td>\n",
       "      <td>粉嶺站(循環線)</td>\n",
       "      <td>2</td>\n",
       "      <td>2024-09-18T17:24:43+08:00</td>\n",
       "      <td>原定班次</td>\n",
       "      <td>2024-09-18T17:12:13+08:00</td>\n",
       "    </tr>\n",
       "    <tr>\n",
       "      <th>1859</th>\n",
       "      <td>KMB</td>\n",
       "      <td>2024-09-18-17-12-38</td>\n",
       "      <td>278K</td>\n",
       "      <td>O</td>\n",
       "      <td>1</td>\n",
       "      <td>8</td>\n",
       "      <td>粉嶺站(循環線)</td>\n",
       "      <td>3</td>\n",
       "      <td>2024-09-18T17:34:43+08:00</td>\n",
       "      <td>原定班次</td>\n",
       "      <td>2024-09-18T17:12:13+08:00</td>\n",
       "    </tr>\n",
       "    <tr>\n",
       "      <th>1860</th>\n",
       "      <td>KMB</td>\n",
       "      <td>2024-09-18-17-12-38</td>\n",
       "      <td>278K</td>\n",
       "      <td>O</td>\n",
       "      <td>1</td>\n",
       "      <td>9</td>\n",
       "      <td>粉嶺站(循環線)</td>\n",
       "      <td>4</td>\n",
       "      <td>2024-09-18T17:16:42+08:00</td>\n",
       "      <td>NaN</td>\n",
       "      <td>2024-09-18T17:12:13+08:00</td>\n",
       "    </tr>\n",
       "    <tr>\n",
       "      <th>1861</th>\n",
       "      <td>KMB</td>\n",
       "      <td>2024-09-18-17-12-38</td>\n",
       "      <td>278K</td>\n",
       "      <td>O</td>\n",
       "      <td>1</td>\n",
       "      <td>9</td>\n",
       "      <td>粉嶺站(循環線)</td>\n",
       "      <td>5</td>\n",
       "      <td>2024-09-18T17:26:34+08:00</td>\n",
       "      <td>原定班次</td>\n",
       "      <td>2024-09-18T17:12:13+08:00</td>\n",
       "    </tr>\n",
       "    <tr>\n",
       "      <th>1862</th>\n",
       "      <td>KMB</td>\n",
       "      <td>2024-09-18-17-12-38</td>\n",
       "      <td>278K</td>\n",
       "      <td>O</td>\n",
       "      <td>1</td>\n",
       "      <td>9</td>\n",
       "      <td>粉嶺站(循環線)</td>\n",
       "      <td>6</td>\n",
       "      <td>2024-09-18T17:36:34+08:00</td>\n",
       "      <td>原定班次</td>\n",
       "      <td>2024-09-18T17:12:13+08:00</td>\n",
       "    </tr>\n",
       "  </tbody>\n",
       "</table>\n",
       "<p>1863 rows × 11 columns</p>\n",
       "</div>"
      ]
     },
     "execution_count": 65,
     "metadata": {},
     "output_type": "execute_result"
    }
   ],
   "execution_count": 65
  },
  {
   "cell_type": "code",
   "id": "513a9b1aa60798f3",
   "metadata": {
    "ExecuteTime": {
     "end_time": "2024-10-19T00:23:21.152692Z",
     "start_time": "2024-10-19T00:23:21.114649Z"
    }
   },
   "source": [
    "# Convert the 'eta' col into datetime\n",
    "data['eta'] = pd.to_datetime(data['eta'])\n",
    "data['timestamp'] = pd.to_datetime(data['timestamp'])\n",
    "data"
   ],
   "outputs": [
    {
     "data": {
      "text/plain": [
       "       co                time  route dir  service_type  seq      dest  \\\n",
       "0     KMB  2024-09-18-10-33-25  278K   O             1    1  粉嶺站(循環線)   \n",
       "1     KMB  2024-09-18-10-33-25  278K   O             1    1  粉嶺站(循環線)   \n",
       "2     KMB  2024-09-18-10-33-25  278K   O             1    1  粉嶺站(循環線)   \n",
       "3     KMB  2024-09-18-10-33-25  278K   O             1    2  粉嶺站(循環線)   \n",
       "4     KMB  2024-09-18-10-33-25  278K   O             1    2  粉嶺站(循環線)   \n",
       "...   ...                  ...   ...  ..           ...  ...       ...   \n",
       "1858  KMB  2024-09-18-17-12-38  278K   O             1    8  粉嶺站(循環線)   \n",
       "1859  KMB  2024-09-18-17-12-38  278K   O             1    8  粉嶺站(循環線)   \n",
       "1860  KMB  2024-09-18-17-12-38  278K   O             1    9  粉嶺站(循環線)   \n",
       "1861  KMB  2024-09-18-17-12-38  278K   O             1    9  粉嶺站(循環線)   \n",
       "1862  KMB  2024-09-18-17-12-38  278K   O             1    9  粉嶺站(循環線)   \n",
       "\n",
       "      eta_seq                       eta   rmk                 timestamp  \n",
       "0           1 2024-09-18 10:37:00+08:00  原定班次 2024-09-18 10:33:16+08:00  \n",
       "1           2 2024-09-18 10:45:00+08:00  原定班次 2024-09-18 10:33:16+08:00  \n",
       "2           3 2024-09-18 10:52:00+08:00  原定班次 2024-09-18 10:33:16+08:00  \n",
       "3           1 2024-09-18 10:37:00+08:00  原定班次 2024-09-18 10:33:16+08:00  \n",
       "4           2 2024-09-18 10:45:00+08:00  原定班次 2024-09-18 10:33:16+08:00  \n",
       "...       ...                       ...   ...                       ...  \n",
       "1858        2 2024-09-18 17:24:43+08:00  原定班次 2024-09-18 17:12:13+08:00  \n",
       "1859        3 2024-09-18 17:34:43+08:00  原定班次 2024-09-18 17:12:13+08:00  \n",
       "1860        4 2024-09-18 17:16:42+08:00   NaN 2024-09-18 17:12:13+08:00  \n",
       "1861        5 2024-09-18 17:26:34+08:00  原定班次 2024-09-18 17:12:13+08:00  \n",
       "1862        6 2024-09-18 17:36:34+08:00  原定班次 2024-09-18 17:12:13+08:00  \n",
       "\n",
       "[1863 rows x 11 columns]"
      ],
      "text/html": [
       "<div>\n",
       "<style scoped>\n",
       "    .dataframe tbody tr th:only-of-type {\n",
       "        vertical-align: middle;\n",
       "    }\n",
       "\n",
       "    .dataframe tbody tr th {\n",
       "        vertical-align: top;\n",
       "    }\n",
       "\n",
       "    .dataframe thead th {\n",
       "        text-align: right;\n",
       "    }\n",
       "</style>\n",
       "<table border=\"1\" class=\"dataframe\">\n",
       "  <thead>\n",
       "    <tr style=\"text-align: right;\">\n",
       "      <th></th>\n",
       "      <th>co</th>\n",
       "      <th>time</th>\n",
       "      <th>route</th>\n",
       "      <th>dir</th>\n",
       "      <th>service_type</th>\n",
       "      <th>seq</th>\n",
       "      <th>dest</th>\n",
       "      <th>eta_seq</th>\n",
       "      <th>eta</th>\n",
       "      <th>rmk</th>\n",
       "      <th>timestamp</th>\n",
       "    </tr>\n",
       "  </thead>\n",
       "  <tbody>\n",
       "    <tr>\n",
       "      <th>0</th>\n",
       "      <td>KMB</td>\n",
       "      <td>2024-09-18-10-33-25</td>\n",
       "      <td>278K</td>\n",
       "      <td>O</td>\n",
       "      <td>1</td>\n",
       "      <td>1</td>\n",
       "      <td>粉嶺站(循環線)</td>\n",
       "      <td>1</td>\n",
       "      <td>2024-09-18 10:37:00+08:00</td>\n",
       "      <td>原定班次</td>\n",
       "      <td>2024-09-18 10:33:16+08:00</td>\n",
       "    </tr>\n",
       "    <tr>\n",
       "      <th>1</th>\n",
       "      <td>KMB</td>\n",
       "      <td>2024-09-18-10-33-25</td>\n",
       "      <td>278K</td>\n",
       "      <td>O</td>\n",
       "      <td>1</td>\n",
       "      <td>1</td>\n",
       "      <td>粉嶺站(循環線)</td>\n",
       "      <td>2</td>\n",
       "      <td>2024-09-18 10:45:00+08:00</td>\n",
       "      <td>原定班次</td>\n",
       "      <td>2024-09-18 10:33:16+08:00</td>\n",
       "    </tr>\n",
       "    <tr>\n",
       "      <th>2</th>\n",
       "      <td>KMB</td>\n",
       "      <td>2024-09-18-10-33-25</td>\n",
       "      <td>278K</td>\n",
       "      <td>O</td>\n",
       "      <td>1</td>\n",
       "      <td>1</td>\n",
       "      <td>粉嶺站(循環線)</td>\n",
       "      <td>3</td>\n",
       "      <td>2024-09-18 10:52:00+08:00</td>\n",
       "      <td>原定班次</td>\n",
       "      <td>2024-09-18 10:33:16+08:00</td>\n",
       "    </tr>\n",
       "    <tr>\n",
       "      <th>3</th>\n",
       "      <td>KMB</td>\n",
       "      <td>2024-09-18-10-33-25</td>\n",
       "      <td>278K</td>\n",
       "      <td>O</td>\n",
       "      <td>1</td>\n",
       "      <td>2</td>\n",
       "      <td>粉嶺站(循環線)</td>\n",
       "      <td>1</td>\n",
       "      <td>2024-09-18 10:37:00+08:00</td>\n",
       "      <td>原定班次</td>\n",
       "      <td>2024-09-18 10:33:16+08:00</td>\n",
       "    </tr>\n",
       "    <tr>\n",
       "      <th>4</th>\n",
       "      <td>KMB</td>\n",
       "      <td>2024-09-18-10-33-25</td>\n",
       "      <td>278K</td>\n",
       "      <td>O</td>\n",
       "      <td>1</td>\n",
       "      <td>2</td>\n",
       "      <td>粉嶺站(循環線)</td>\n",
       "      <td>2</td>\n",
       "      <td>2024-09-18 10:45:00+08:00</td>\n",
       "      <td>原定班次</td>\n",
       "      <td>2024-09-18 10:33:16+08:00</td>\n",
       "    </tr>\n",
       "    <tr>\n",
       "      <th>...</th>\n",
       "      <td>...</td>\n",
       "      <td>...</td>\n",
       "      <td>...</td>\n",
       "      <td>...</td>\n",
       "      <td>...</td>\n",
       "      <td>...</td>\n",
       "      <td>...</td>\n",
       "      <td>...</td>\n",
       "      <td>...</td>\n",
       "      <td>...</td>\n",
       "      <td>...</td>\n",
       "    </tr>\n",
       "    <tr>\n",
       "      <th>1858</th>\n",
       "      <td>KMB</td>\n",
       "      <td>2024-09-18-17-12-38</td>\n",
       "      <td>278K</td>\n",
       "      <td>O</td>\n",
       "      <td>1</td>\n",
       "      <td>8</td>\n",
       "      <td>粉嶺站(循環線)</td>\n",
       "      <td>2</td>\n",
       "      <td>2024-09-18 17:24:43+08:00</td>\n",
       "      <td>原定班次</td>\n",
       "      <td>2024-09-18 17:12:13+08:00</td>\n",
       "    </tr>\n",
       "    <tr>\n",
       "      <th>1859</th>\n",
       "      <td>KMB</td>\n",
       "      <td>2024-09-18-17-12-38</td>\n",
       "      <td>278K</td>\n",
       "      <td>O</td>\n",
       "      <td>1</td>\n",
       "      <td>8</td>\n",
       "      <td>粉嶺站(循環線)</td>\n",
       "      <td>3</td>\n",
       "      <td>2024-09-18 17:34:43+08:00</td>\n",
       "      <td>原定班次</td>\n",
       "      <td>2024-09-18 17:12:13+08:00</td>\n",
       "    </tr>\n",
       "    <tr>\n",
       "      <th>1860</th>\n",
       "      <td>KMB</td>\n",
       "      <td>2024-09-18-17-12-38</td>\n",
       "      <td>278K</td>\n",
       "      <td>O</td>\n",
       "      <td>1</td>\n",
       "      <td>9</td>\n",
       "      <td>粉嶺站(循環線)</td>\n",
       "      <td>4</td>\n",
       "      <td>2024-09-18 17:16:42+08:00</td>\n",
       "      <td>NaN</td>\n",
       "      <td>2024-09-18 17:12:13+08:00</td>\n",
       "    </tr>\n",
       "    <tr>\n",
       "      <th>1861</th>\n",
       "      <td>KMB</td>\n",
       "      <td>2024-09-18-17-12-38</td>\n",
       "      <td>278K</td>\n",
       "      <td>O</td>\n",
       "      <td>1</td>\n",
       "      <td>9</td>\n",
       "      <td>粉嶺站(循環線)</td>\n",
       "      <td>5</td>\n",
       "      <td>2024-09-18 17:26:34+08:00</td>\n",
       "      <td>原定班次</td>\n",
       "      <td>2024-09-18 17:12:13+08:00</td>\n",
       "    </tr>\n",
       "    <tr>\n",
       "      <th>1862</th>\n",
       "      <td>KMB</td>\n",
       "      <td>2024-09-18-17-12-38</td>\n",
       "      <td>278K</td>\n",
       "      <td>O</td>\n",
       "      <td>1</td>\n",
       "      <td>9</td>\n",
       "      <td>粉嶺站(循環線)</td>\n",
       "      <td>6</td>\n",
       "      <td>2024-09-18 17:36:34+08:00</td>\n",
       "      <td>原定班次</td>\n",
       "      <td>2024-09-18 17:12:13+08:00</td>\n",
       "    </tr>\n",
       "  </tbody>\n",
       "</table>\n",
       "<p>1863 rows × 11 columns</p>\n",
       "</div>"
      ]
     },
     "execution_count": 66,
     "metadata": {},
     "output_type": "execute_result"
    }
   ],
   "execution_count": 66
  },
  {
   "cell_type": "code",
   "execution_count": 111,
   "id": "4ddd32cf",
   "metadata": {},
   "outputs": [
    {
     "data": {
      "text/plain": [
       "207"
      ]
     },
     "execution_count": 111,
     "metadata": {},
     "output_type": "execute_result"
    }
   ],
   "source": [
    "len(data.query(\"seq == 9\"))"
   ]
  },
  {
   "cell_type": "markdown",
   "id": "c0283f78",
   "metadata": {},
   "source": [
    "# Create Instances"
   ]
  },
  {
   "cell_type": "code",
   "id": "730481bf",
   "metadata": {
    "ExecuteTime": {
     "end_time": "2024-10-19T00:23:23.308612Z",
     "start_time": "2024-10-19T00:23:23.172555Z"
    }
   },
   "source": [
    "etas = [Eta(id=idx, co=row.co, line_id=row.route, dir=row.dir, service_type=row.service_type, seq=row.seq,\n",
    "            dest=row.dest,eta_seq=row.eta_seq, eta=row.eta, rmk=row.rmk, scrapped_time=row.timestamp) \n",
    "            for idx, row in data.iterrows()]\n",
    "lines = [BusLineEta(co=etas[0].co ,etas=etas, line_id=etas[0].line_id, dir=etas[0].dir, service_type=etas[0].service_type, dest=etas[0].dest, rmk=etas[0].rmk)]"
   ],
   "outputs": [],
   "execution_count": 67
  },
  {
   "cell_type": "code",
   "id": "1b577281bbf3f9e2",
   "metadata": {
    "ExecuteTime": {
     "end_time": "2024-10-19T00:23:24.694760Z",
     "start_time": "2024-10-19T00:23:24.674934Z"
    }
   },
   "source": [
    "testLine = lines[0]\n",
    "# testLine.eta_groups\n",
    "sum([len(_group) for _idx, _group in testLine.eta_groups.items()])"
   ],
   "outputs": [
    {
     "data": {
      "text/plain": [
       "1863"
      ]
     },
     "execution_count": 68,
     "metadata": {},
     "output_type": "execute_result"
    }
   ],
   "execution_count": 68
  },
  {
   "cell_type": "code",
   "id": "031eb7ba",
   "metadata": {
    "ExecuteTime": {
     "end_time": "2024-10-19T00:23:27.060185Z",
     "start_time": "2024-10-19T00:23:26.919800Z"
    }
   },
   "source": [
    "testLine.clean_etas(time_threshold=5)"
   ],
   "outputs": [],
   "execution_count": 69
  },
  {
   "cell_type": "code",
   "id": "6057441a",
   "metadata": {
    "ExecuteTime": {
     "end_time": "2024-10-19T00:23:30.742113Z",
     "start_time": "2024-10-19T00:23:30.732114Z"
    }
   },
   "source": [
    "sum([len(_group) for _idx, _group in testLine.eta_groups.items()])"
   ],
   "outputs": [
    {
     "data": {
      "text/plain": [
       "471"
      ]
     },
     "execution_count": 70,
     "metadata": {},
     "output_type": "execute_result"
    }
   ],
   "execution_count": 70
  },
  {
   "cell_type": "code",
   "id": "0fdb5c0c",
   "metadata": {
    "ExecuteTime": {
     "end_time": "2024-10-19T00:23:32.596612Z",
     "start_time": "2024-10-19T00:23:32.589102Z"
    }
   },
   "source": [
    "sorted([eta.eta for eta in testLine.eta_groups.get(9)])"
   ],
   "outputs": [
    {
     "data": {
      "text/plain": [
       "[Timestamp('2024-09-18 10:35:32+0800', tz='UTC+08:00'),\n",
       " Timestamp('2024-09-18 10:43:43+0800', tz='UTC+08:00'),\n",
       " Timestamp('2024-09-18 10:51:32+0800', tz='UTC+08:00'),\n",
       " Timestamp('2024-09-18 11:03:09+0800', tz='UTC+08:00'),\n",
       " Timestamp('2024-09-18 11:04:01+0800', tz='UTC+08:00'),\n",
       " Timestamp('2024-09-18 11:06:07+0800', tz='UTC+08:00'),\n",
       " Timestamp('2024-09-18 11:07:31+0800', tz='UTC+08:00'),\n",
       " Timestamp('2024-09-18 11:17:42+0800', tz='UTC+08:00'),\n",
       " Timestamp('2024-09-18 11:20:59+0800', tz='UTC+08:00'),\n",
       " Timestamp('2024-09-18 11:22:32+0800', tz='UTC+08:00'),\n",
       " Timestamp('2024-09-18 11:32:38+0800', tz='UTC+08:00'),\n",
       " Timestamp('2024-09-18 11:35:45+0800', tz='UTC+08:00'),\n",
       " Timestamp('2024-09-18 11:36:46+0800', tz='UTC+08:00'),\n",
       " Timestamp('2024-09-18 11:49:46+0800', tz='UTC+08:00'),\n",
       " Timestamp('2024-09-18 11:50:34+0800', tz='UTC+08:00'),\n",
       " Timestamp('2024-09-18 11:59:34+0800', tz='UTC+08:00'),\n",
       " Timestamp('2024-09-18 12:01:05+0800', tz='UTC+08:00'),\n",
       " Timestamp('2024-09-18 12:01:51+0800', tz='UTC+08:00'),\n",
       " Timestamp('2024-09-18 12:06:23+0800', tz='UTC+08:00'),\n",
       " Timestamp('2024-09-18 12:08:05+0800', tz='UTC+08:00'),\n",
       " Timestamp('2024-09-18 12:14:17+0800', tz='UTC+08:00'),\n",
       " Timestamp('2024-09-18 12:18:27+0800', tz='UTC+08:00'),\n",
       " Timestamp('2024-09-18 12:28:19+0800', tz='UTC+08:00'),\n",
       " Timestamp('2024-09-18 12:28:36+0800', tz='UTC+08:00'),\n",
       " Timestamp('2024-09-18 12:29:33+0800', tz='UTC+08:00'),\n",
       " Timestamp('2024-09-18 12:30:04+0800', tz='UTC+08:00'),\n",
       " Timestamp('2024-09-18 12:37:24+0800', tz='UTC+08:00'),\n",
       " Timestamp('2024-09-18 12:48:18+0800', tz='UTC+08:00'),\n",
       " Timestamp('2024-09-18 12:49:50+0800', tz='UTC+08:00'),\n",
       " Timestamp('2024-09-18 12:50:46+0800', tz='UTC+08:00'),\n",
       " Timestamp('2024-09-18 13:03:49+0800', tz='UTC+08:00'),\n",
       " Timestamp('2024-09-18 13:12:38+0800', tz='UTC+08:00'),\n",
       " Timestamp('2024-09-18 13:20:20+0800', tz='UTC+08:00'),\n",
       " Timestamp('2024-09-18 13:30:07+0800', tz='UTC+08:00'),\n",
       " Timestamp('2024-09-18 13:41:55+0800', tz='UTC+08:00'),\n",
       " Timestamp('2024-09-18 13:53:41+0800', tz='UTC+08:00'),\n",
       " Timestamp('2024-09-18 14:02:09+0800', tz='UTC+08:00'),\n",
       " Timestamp('2024-09-18 14:18:48+0800', tz='UTC+08:00'),\n",
       " Timestamp('2024-09-18 14:20:34+0800', tz='UTC+08:00'),\n",
       " Timestamp('2024-09-18 14:32:07+0800', tz='UTC+08:00'),\n",
       " Timestamp('2024-09-18 14:44:42+0800', tz='UTC+08:00'),\n",
       " Timestamp('2024-09-18 14:53:14+0800', tz='UTC+08:00'),\n",
       " Timestamp('2024-09-18 14:59:41+0800', tz='UTC+08:00'),\n",
       " Timestamp('2024-09-18 14:59:41+0800', tz='UTC+08:00'),\n",
       " Timestamp('2024-09-18 15:00:35+0800', tz='UTC+08:00'),\n",
       " Timestamp('2024-09-18 15:02:43+0800', tz='UTC+08:00'),\n",
       " Timestamp('2024-09-18 15:15:51+0800', tz='UTC+08:00'),\n",
       " Timestamp('2024-09-18 15:32:52+0800', tz='UTC+08:00'),\n",
       " Timestamp('2024-09-18 15:37:39+0800', tz='UTC+08:00'),\n",
       " Timestamp('2024-09-18 15:38:39+0800', tz='UTC+08:00'),\n",
       " Timestamp('2024-09-18 15:49:05+0800', tz='UTC+08:00'),\n",
       " Timestamp('2024-09-18 16:01:32+0800', tz='UTC+08:00'),\n",
       " Timestamp('2024-09-18 16:13:21+0800', tz='UTC+08:00'),\n",
       " Timestamp('2024-09-18 16:28:50+0800', tz='UTC+08:00'),\n",
       " Timestamp('2024-09-18 16:35:13+0800', tz='UTC+08:00'),\n",
       " Timestamp('2024-09-18 16:48:26+0800', tz='UTC+08:00'),\n",
       " Timestamp('2024-09-18 17:02:03+0800', tz='UTC+08:00'),\n",
       " Timestamp('2024-09-18 17:16:42+0800', tz='UTC+08:00'),\n",
       " Timestamp('2024-09-18 17:26:34+0800', tz='UTC+08:00'),\n",
       " Timestamp('2024-09-18 17:36:34+0800', tz='UTC+08:00')]"
      ]
     },
     "execution_count": 71,
     "metadata": {},
     "output_type": "execute_result"
    }
   ],
   "execution_count": 71
  },
  {
   "cell_type": "code",
   "id": "16dcf424",
   "metadata": {
    "ExecuteTime": {
     "end_time": "2024-10-19T00:23:34.466883Z",
     "start_time": "2024-10-19T00:23:34.454882Z"
    }
   },
   "source": [
    "len(testLine.eta_groups.get(9))"
   ],
   "outputs": [
    {
     "data": {
      "text/plain": [
       "60"
      ]
     },
     "execution_count": 72,
     "metadata": {},
     "output_type": "execute_result"
    }
   ],
   "execution_count": 72
  },
  {
   "cell_type": "code",
   "id": "c930e74d",
   "metadata": {
    "ExecuteTime": {
     "end_time": "2024-10-19T00:25:00.239623Z",
     "start_time": "2024-10-19T00:25:00.212613Z"
    }
   },
   "source": "all_candidate_eta_lists, all_candidate_eta_time_gaps = testLine.find_possible_consecutive_eta_pairs()",
   "outputs": [],
   "execution_count": 74
  },
  {
   "metadata": {
    "ExecuteTime": {
     "end_time": "2024-10-19T00:30:19.686084Z",
     "start_time": "2024-10-19T00:30:19.663091Z"
    }
   },
   "cell_type": "code",
   "source": "all_candidate_eta_lists[0]",
   "id": "b8c3f1433ece6d51",
   "outputs": [
    {
     "data": {
      "text/plain": [
       "[[(<bus_indentifier.Eta at 0x205612f3490>,\n",
       "   <bus_indentifier.Eta at 0x205612f2da0>)],\n",
       " [(<bus_indentifier.Eta at 0x205612f0460>,\n",
       "   <bus_indentifier.Eta at 0x205612f2230>),\n",
       "  (<bus_indentifier.Eta at 0x205612f0460>,\n",
       "   <bus_indentifier.Eta at 0x205612f2da0>)],\n",
       " [(<bus_indentifier.Eta at 0x20561368910>,\n",
       "   <bus_indentifier.Eta at 0x205612f0880>),\n",
       "  (<bus_indentifier.Eta at 0x20561368910>,\n",
       "   <bus_indentifier.Eta at 0x205612f2230>),\n",
       "  (<bus_indentifier.Eta at 0x20561368910>,\n",
       "   <bus_indentifier.Eta at 0x205612f2da0>)],\n",
       " [(<bus_indentifier.Eta at 0x205613696c0>,\n",
       "   <bus_indentifier.Eta at 0x2056136a140>),\n",
       "  (<bus_indentifier.Eta at 0x205613696c0>,\n",
       "   <bus_indentifier.Eta at 0x205612f0880>),\n",
       "  (<bus_indentifier.Eta at 0x205613696c0>,\n",
       "   <bus_indentifier.Eta at 0x205612f2230>),\n",
       "  (<bus_indentifier.Eta at 0x205613696c0>,\n",
       "   <bus_indentifier.Eta at 0x205612f2da0>)],\n",
       " [(<bus_indentifier.Eta at 0x2056136bf70>,\n",
       "   <bus_indentifier.Eta at 0x20561368e80>),\n",
       "  (<bus_indentifier.Eta at 0x2056136bf70>,\n",
       "   <bus_indentifier.Eta at 0x2056136b4c0>),\n",
       "  (<bus_indentifier.Eta at 0x2056136bf70>,\n",
       "   <bus_indentifier.Eta at 0x2056136a140>),\n",
       "  (<bus_indentifier.Eta at 0x2056136bf70>,\n",
       "   <bus_indentifier.Eta at 0x205612f0880>),\n",
       "  (<bus_indentifier.Eta at 0x2056136bf70>,\n",
       "   <bus_indentifier.Eta at 0x205612f2230>)],\n",
       " [(<bus_indentifier.Eta at 0x20561368070>,\n",
       "   <bus_indentifier.Eta at 0x2056136a140>),\n",
       "  (<bus_indentifier.Eta at 0x20561368070>,\n",
       "   <bus_indentifier.Eta at 0x205612f0880>),\n",
       "  (<bus_indentifier.Eta at 0x20561368070>,\n",
       "   <bus_indentifier.Eta at 0x205612f2230>),\n",
       "  (<bus_indentifier.Eta at 0x20561368070>,\n",
       "   <bus_indentifier.Eta at 0x205612f2da0>)],\n",
       " [(<bus_indentifier.Eta at 0x2056136afb0>,\n",
       "   <bus_indentifier.Eta at 0x20561368e80>),\n",
       "  (<bus_indentifier.Eta at 0x2056136afb0>,\n",
       "   <bus_indentifier.Eta at 0x2056136b4c0>),\n",
       "  (<bus_indentifier.Eta at 0x2056136afb0>,\n",
       "   <bus_indentifier.Eta at 0x2056136a140>),\n",
       "  (<bus_indentifier.Eta at 0x2056136afb0>,\n",
       "   <bus_indentifier.Eta at 0x205612f0880>),\n",
       "  (<bus_indentifier.Eta at 0x2056136afb0>,\n",
       "   <bus_indentifier.Eta at 0x205612f2230>)],\n",
       " [(<bus_indentifier.Eta at 0x2056136a080>,\n",
       "   <bus_indentifier.Eta at 0x2056136ac20>),\n",
       "  (<bus_indentifier.Eta at 0x2056136a080>,\n",
       "   <bus_indentifier.Eta at 0x20561368e80>),\n",
       "  (<bus_indentifier.Eta at 0x2056136a080>,\n",
       "   <bus_indentifier.Eta at 0x2056136b4c0>),\n",
       "  (<bus_indentifier.Eta at 0x2056136a080>,\n",
       "   <bus_indentifier.Eta at 0x2056136a140>),\n",
       "  (<bus_indentifier.Eta at 0x2056136a080>,\n",
       "   <bus_indentifier.Eta at 0x205612f0880>)],\n",
       " [(<bus_indentifier.Eta at 0x205613684f0>,\n",
       "   <bus_indentifier.Eta at 0x2056136af80>),\n",
       "  (<bus_indentifier.Eta at 0x205613684f0>,\n",
       "   <bus_indentifier.Eta at 0x20561368280>),\n",
       "  (<bus_indentifier.Eta at 0x205613684f0>,\n",
       "   <bus_indentifier.Eta at 0x2056136ac20>),\n",
       "  (<bus_indentifier.Eta at 0x205613684f0>,\n",
       "   <bus_indentifier.Eta at 0x20561368e80>),\n",
       "  (<bus_indentifier.Eta at 0x205613684f0>,\n",
       "   <bus_indentifier.Eta at 0x2056136b4c0>)],\n",
       " [(<bus_indentifier.Eta at 0x2056136b0d0>,\n",
       "   <bus_indentifier.Eta at 0x20561368280>),\n",
       "  (<bus_indentifier.Eta at 0x2056136b0d0>,\n",
       "   <bus_indentifier.Eta at 0x2056136ac20>),\n",
       "  (<bus_indentifier.Eta at 0x2056136b0d0>,\n",
       "   <bus_indentifier.Eta at 0x20561368e80>),\n",
       "  (<bus_indentifier.Eta at 0x2056136b0d0>,\n",
       "   <bus_indentifier.Eta at 0x2056136b4c0>),\n",
       "  (<bus_indentifier.Eta at 0x2056136b0d0>,\n",
       "   <bus_indentifier.Eta at 0x2056136a140>)],\n",
       " [(<bus_indentifier.Eta at 0x2056136bdf0>,\n",
       "   <bus_indentifier.Eta at 0x2056136a320>),\n",
       "  (<bus_indentifier.Eta at 0x2056136bdf0>,\n",
       "   <bus_indentifier.Eta at 0x2056136af80>),\n",
       "  (<bus_indentifier.Eta at 0x2056136bdf0>,\n",
       "   <bus_indentifier.Eta at 0x20561368280>),\n",
       "  (<bus_indentifier.Eta at 0x2056136bdf0>,\n",
       "   <bus_indentifier.Eta at 0x2056136ac20>),\n",
       "  (<bus_indentifier.Eta at 0x2056136bdf0>,\n",
       "   <bus_indentifier.Eta at 0x20561368e80>)],\n",
       " [(<bus_indentifier.Eta at 0x2056136b3d0>,\n",
       "   <bus_indentifier.Eta at 0x2056136b6d0>),\n",
       "  (<bus_indentifier.Eta at 0x2056136b3d0>,\n",
       "   <bus_indentifier.Eta at 0x20561369570>),\n",
       "  (<bus_indentifier.Eta at 0x2056136b3d0>,\n",
       "   <bus_indentifier.Eta at 0x2056136a320>),\n",
       "  (<bus_indentifier.Eta at 0x2056136b3d0>,\n",
       "   <bus_indentifier.Eta at 0x2056136af80>),\n",
       "  (<bus_indentifier.Eta at 0x2056136b3d0>,\n",
       "   <bus_indentifier.Eta at 0x20561368280>)],\n",
       " [(<bus_indentifier.Eta at 0x2056136bfa0>,\n",
       "   <bus_indentifier.Eta at 0x2056136b6d0>),\n",
       "  (<bus_indentifier.Eta at 0x2056136bfa0>,\n",
       "   <bus_indentifier.Eta at 0x20561369570>),\n",
       "  (<bus_indentifier.Eta at 0x2056136bfa0>,\n",
       "   <bus_indentifier.Eta at 0x2056136a320>),\n",
       "  (<bus_indentifier.Eta at 0x2056136bfa0>,\n",
       "   <bus_indentifier.Eta at 0x2056136af80>),\n",
       "  (<bus_indentifier.Eta at 0x2056136bfa0>,\n",
       "   <bus_indentifier.Eta at 0x20561368280>)],\n",
       " [(<bus_indentifier.Eta at 0x2056298fe50>,\n",
       "   <bus_indentifier.Eta at 0x2056298c670>),\n",
       "  (<bus_indentifier.Eta at 0x2056298fe50>,\n",
       "   <bus_indentifier.Eta at 0x2056298d8d0>),\n",
       "  (<bus_indentifier.Eta at 0x2056298fe50>,\n",
       "   <bus_indentifier.Eta at 0x2056136b6d0>),\n",
       "  (<bus_indentifier.Eta at 0x2056298fe50>,\n",
       "   <bus_indentifier.Eta at 0x20561369570>),\n",
       "  (<bus_indentifier.Eta at 0x2056298fe50>,\n",
       "   <bus_indentifier.Eta at 0x2056136a320>)],\n",
       " [(<bus_indentifier.Eta at 0x2056298e500>,\n",
       "   <bus_indentifier.Eta at 0x2056298c670>),\n",
       "  (<bus_indentifier.Eta at 0x2056298e500>,\n",
       "   <bus_indentifier.Eta at 0x2056298d8d0>),\n",
       "  (<bus_indentifier.Eta at 0x2056298e500>,\n",
       "   <bus_indentifier.Eta at 0x2056136b6d0>),\n",
       "  (<bus_indentifier.Eta at 0x2056298e500>,\n",
       "   <bus_indentifier.Eta at 0x20561369570>),\n",
       "  (<bus_indentifier.Eta at 0x2056298e500>,\n",
       "   <bus_indentifier.Eta at 0x2056136a320>)],\n",
       " [(<bus_indentifier.Eta at 0x2056298c7c0>,\n",
       "   <bus_indentifier.Eta at 0x2056298f430>),\n",
       "  (<bus_indentifier.Eta at 0x2056298c7c0>,\n",
       "   <bus_indentifier.Eta at 0x2056298dba0>),\n",
       "  (<bus_indentifier.Eta at 0x2056298c7c0>,\n",
       "   <bus_indentifier.Eta at 0x2056298c670>),\n",
       "  (<bus_indentifier.Eta at 0x2056298c7c0>,\n",
       "   <bus_indentifier.Eta at 0x2056298d8d0>),\n",
       "  (<bus_indentifier.Eta at 0x2056298c7c0>,\n",
       "   <bus_indentifier.Eta at 0x2056136b6d0>)],\n",
       " [(<bus_indentifier.Eta at 0x2056298d990>,\n",
       "   <bus_indentifier.Eta at 0x2056298f430>),\n",
       "  (<bus_indentifier.Eta at 0x2056298d990>,\n",
       "   <bus_indentifier.Eta at 0x2056298dba0>),\n",
       "  (<bus_indentifier.Eta at 0x2056298d990>,\n",
       "   <bus_indentifier.Eta at 0x2056298c670>),\n",
       "  (<bus_indentifier.Eta at 0x2056298d990>,\n",
       "   <bus_indentifier.Eta at 0x2056298d8d0>),\n",
       "  (<bus_indentifier.Eta at 0x2056298d990>,\n",
       "   <bus_indentifier.Eta at 0x2056136b6d0>)],\n",
       " [(<bus_indentifier.Eta at 0x2056298c490>,\n",
       "   <bus_indentifier.Eta at 0x2056298d7b0>),\n",
       "  (<bus_indentifier.Eta at 0x2056298c490>,\n",
       "   <bus_indentifier.Eta at 0x205615a6e30>),\n",
       "  (<bus_indentifier.Eta at 0x2056298c490>,\n",
       "   <bus_indentifier.Eta at 0x2056298f430>),\n",
       "  (<bus_indentifier.Eta at 0x2056298c490>,\n",
       "   <bus_indentifier.Eta at 0x2056298dba0>),\n",
       "  (<bus_indentifier.Eta at 0x2056298c490>,\n",
       "   <bus_indentifier.Eta at 0x2056298c670>)],\n",
       " [(<bus_indentifier.Eta at 0x205615a40d0>,\n",
       "   <bus_indentifier.Eta at 0x2056298f430>),\n",
       "  (<bus_indentifier.Eta at 0x205615a40d0>,\n",
       "   <bus_indentifier.Eta at 0x2056298dba0>),\n",
       "  (<bus_indentifier.Eta at 0x205615a40d0>,\n",
       "   <bus_indentifier.Eta at 0x2056298c670>),\n",
       "  (<bus_indentifier.Eta at 0x205615a40d0>,\n",
       "   <bus_indentifier.Eta at 0x2056298d8d0>),\n",
       "  (<bus_indentifier.Eta at 0x205615a40d0>,\n",
       "   <bus_indentifier.Eta at 0x2056136b6d0>)],\n",
       " [(<bus_indentifier.Eta at 0x205615a7b50>,\n",
       "   <bus_indentifier.Eta at 0x2056298d7b0>),\n",
       "  (<bus_indentifier.Eta at 0x205615a7b50>,\n",
       "   <bus_indentifier.Eta at 0x205615a6e30>),\n",
       "  (<bus_indentifier.Eta at 0x205615a7b50>,\n",
       "   <bus_indentifier.Eta at 0x2056298f430>),\n",
       "  (<bus_indentifier.Eta at 0x205615a7b50>,\n",
       "   <bus_indentifier.Eta at 0x2056298dba0>),\n",
       "  (<bus_indentifier.Eta at 0x205615a7b50>,\n",
       "   <bus_indentifier.Eta at 0x2056298c670>)],\n",
       " [(<bus_indentifier.Eta at 0x205615a4940>,\n",
       "   <bus_indentifier.Eta at 0x205615a7f10>),\n",
       "  (<bus_indentifier.Eta at 0x205615a4940>,\n",
       "   <bus_indentifier.Eta at 0x2056298d7b0>),\n",
       "  (<bus_indentifier.Eta at 0x205615a4940>,\n",
       "   <bus_indentifier.Eta at 0x205615a6e30>),\n",
       "  (<bus_indentifier.Eta at 0x205615a4940>,\n",
       "   <bus_indentifier.Eta at 0x2056298f430>),\n",
       "  (<bus_indentifier.Eta at 0x205615a4940>,\n",
       "   <bus_indentifier.Eta at 0x2056298dba0>)],\n",
       " [(<bus_indentifier.Eta at 0x205615a7ac0>,\n",
       "   <bus_indentifier.Eta at 0x205615a6bc0>),\n",
       "  (<bus_indentifier.Eta at 0x205615a7ac0>,\n",
       "   <bus_indentifier.Eta at 0x205615a7f10>),\n",
       "  (<bus_indentifier.Eta at 0x205615a7ac0>,\n",
       "   <bus_indentifier.Eta at 0x2056298d7b0>),\n",
       "  (<bus_indentifier.Eta at 0x205615a7ac0>,\n",
       "   <bus_indentifier.Eta at 0x205615a6e30>),\n",
       "  (<bus_indentifier.Eta at 0x205615a7ac0>,\n",
       "   <bus_indentifier.Eta at 0x2056298f430>)],\n",
       " [(<bus_indentifier.Eta at 0x205615a7f70>,\n",
       "   <bus_indentifier.Eta at 0x205615f1a20>),\n",
       "  (<bus_indentifier.Eta at 0x205615a7f70>,\n",
       "   <bus_indentifier.Eta at 0x205615f2c80>),\n",
       "  (<bus_indentifier.Eta at 0x205615a7f70>,\n",
       "   <bus_indentifier.Eta at 0x205615a6380>),\n",
       "  (<bus_indentifier.Eta at 0x205615a7f70>,\n",
       "   <bus_indentifier.Eta at 0x205615a6bc0>),\n",
       "  (<bus_indentifier.Eta at 0x205615a7f70>,\n",
       "   <bus_indentifier.Eta at 0x205615a7f10>)],\n",
       " [(<bus_indentifier.Eta at 0x205615a7160>,\n",
       "   <bus_indentifier.Eta at 0x205615a77f0>),\n",
       "  (<bus_indentifier.Eta at 0x205615a7160>,\n",
       "   <bus_indentifier.Eta at 0x205615f1a20>),\n",
       "  (<bus_indentifier.Eta at 0x205615a7160>,\n",
       "   <bus_indentifier.Eta at 0x205615f2c80>),\n",
       "  (<bus_indentifier.Eta at 0x205615a7160>,\n",
       "   <bus_indentifier.Eta at 0x205615a6380>),\n",
       "  (<bus_indentifier.Eta at 0x205615a7160>,\n",
       "   <bus_indentifier.Eta at 0x205615a6bc0>)],\n",
       " [(<bus_indentifier.Eta at 0x205615f0a00>,\n",
       "   <bus_indentifier.Eta at 0x205615a77f0>),\n",
       "  (<bus_indentifier.Eta at 0x205615f0a00>,\n",
       "   <bus_indentifier.Eta at 0x205615f1a20>),\n",
       "  (<bus_indentifier.Eta at 0x205615f0a00>,\n",
       "   <bus_indentifier.Eta at 0x205615f2c80>),\n",
       "  (<bus_indentifier.Eta at 0x205615f0a00>,\n",
       "   <bus_indentifier.Eta at 0x205615a6380>),\n",
       "  (<bus_indentifier.Eta at 0x205615f0a00>,\n",
       "   <bus_indentifier.Eta at 0x205615a6bc0>)],\n",
       " [(<bus_indentifier.Eta at 0x205615f2350>,\n",
       "   <bus_indentifier.Eta at 0x205615a77f0>),\n",
       "  (<bus_indentifier.Eta at 0x205615f2350>,\n",
       "   <bus_indentifier.Eta at 0x205615f1a20>),\n",
       "  (<bus_indentifier.Eta at 0x205615f2350>,\n",
       "   <bus_indentifier.Eta at 0x205615f2c80>),\n",
       "  (<bus_indentifier.Eta at 0x205615f2350>,\n",
       "   <bus_indentifier.Eta at 0x205615a6380>),\n",
       "  (<bus_indentifier.Eta at 0x205615f2350>,\n",
       "   <bus_indentifier.Eta at 0x205615a6bc0>)],\n",
       " [(<bus_indentifier.Eta at 0x205615d94b0>,\n",
       "   <bus_indentifier.Eta at 0x205615d8730>),\n",
       "  (<bus_indentifier.Eta at 0x205615d94b0>,\n",
       "   <bus_indentifier.Eta at 0x205615a77f0>),\n",
       "  (<bus_indentifier.Eta at 0x205615d94b0>,\n",
       "   <bus_indentifier.Eta at 0x205615f1a20>),\n",
       "  (<bus_indentifier.Eta at 0x205615d94b0>,\n",
       "   <bus_indentifier.Eta at 0x205615f2c80>),\n",
       "  (<bus_indentifier.Eta at 0x205615d94b0>,\n",
       "   <bus_indentifier.Eta at 0x205615a6380>)],\n",
       " [(<bus_indentifier.Eta at 0x205627a6740>,\n",
       "   <bus_indentifier.Eta at 0x205627a7c70>),\n",
       "  (<bus_indentifier.Eta at 0x205627a6740>,\n",
       "   <bus_indentifier.Eta at 0x205627a7100>),\n",
       "  (<bus_indentifier.Eta at 0x205627a6740>,\n",
       "   <bus_indentifier.Eta at 0x205615d8730>),\n",
       "  (<bus_indentifier.Eta at 0x205627a6740>,\n",
       "   <bus_indentifier.Eta at 0x205615a77f0>),\n",
       "  (<bus_indentifier.Eta at 0x205627a6740>,\n",
       "   <bus_indentifier.Eta at 0x205615f1a20>)],\n",
       " [(<bus_indentifier.Eta at 0x205627a6d10>,\n",
       "   <bus_indentifier.Eta at 0x205627a5ba0>),\n",
       "  (<bus_indentifier.Eta at 0x205627a6d10>,\n",
       "   <bus_indentifier.Eta at 0x205627a7c70>),\n",
       "  (<bus_indentifier.Eta at 0x205627a6d10>,\n",
       "   <bus_indentifier.Eta at 0x205627a7100>),\n",
       "  (<bus_indentifier.Eta at 0x205627a6d10>,\n",
       "   <bus_indentifier.Eta at 0x205615d8730>),\n",
       "  (<bus_indentifier.Eta at 0x205627a6d10>,\n",
       "   <bus_indentifier.Eta at 0x205615a77f0>)],\n",
       " [(<bus_indentifier.Eta at 0x205627a42e0>,\n",
       "   <bus_indentifier.Eta at 0x205627a5ba0>),\n",
       "  (<bus_indentifier.Eta at 0x205627a42e0>,\n",
       "   <bus_indentifier.Eta at 0x205627a7c70>),\n",
       "  (<bus_indentifier.Eta at 0x205627a42e0>,\n",
       "   <bus_indentifier.Eta at 0x205627a7100>),\n",
       "  (<bus_indentifier.Eta at 0x205627a42e0>,\n",
       "   <bus_indentifier.Eta at 0x205615d8730>),\n",
       "  (<bus_indentifier.Eta at 0x205627a42e0>,\n",
       "   <bus_indentifier.Eta at 0x205615a77f0>)],\n",
       " [(<bus_indentifier.Eta at 0x205627a5f60>,\n",
       "   <bus_indentifier.Eta at 0x205627a6290>),\n",
       "  (<bus_indentifier.Eta at 0x205627a5f60>,\n",
       "   <bus_indentifier.Eta at 0x205627a5ba0>),\n",
       "  (<bus_indentifier.Eta at 0x205627a5f60>,\n",
       "   <bus_indentifier.Eta at 0x205627a7c70>),\n",
       "  (<bus_indentifier.Eta at 0x205627a5f60>,\n",
       "   <bus_indentifier.Eta at 0x205627a7100>),\n",
       "  (<bus_indentifier.Eta at 0x205627a5f60>,\n",
       "   <bus_indentifier.Eta at 0x205615d8730>)],\n",
       " [(<bus_indentifier.Eta at 0x205627a5930>,\n",
       "   <bus_indentifier.Eta at 0x205627a6140>),\n",
       "  (<bus_indentifier.Eta at 0x205627a5930>,\n",
       "   <bus_indentifier.Eta at 0x205627a6290>),\n",
       "  (<bus_indentifier.Eta at 0x205627a5930>,\n",
       "   <bus_indentifier.Eta at 0x205627a5ba0>),\n",
       "  (<bus_indentifier.Eta at 0x205627a5930>,\n",
       "   <bus_indentifier.Eta at 0x205627a7c70>),\n",
       "  (<bus_indentifier.Eta at 0x205627a5930>,\n",
       "   <bus_indentifier.Eta at 0x205627a7100>)],\n",
       " [(<bus_indentifier.Eta at 0x205617842b0>,\n",
       "   <bus_indentifier.Eta at 0x20561784520>),\n",
       "  (<bus_indentifier.Eta at 0x205617842b0>,\n",
       "   <bus_indentifier.Eta at 0x205627a6140>),\n",
       "  (<bus_indentifier.Eta at 0x205617842b0>,\n",
       "   <bus_indentifier.Eta at 0x205627a6290>),\n",
       "  (<bus_indentifier.Eta at 0x205617842b0>,\n",
       "   <bus_indentifier.Eta at 0x205627a5ba0>),\n",
       "  (<bus_indentifier.Eta at 0x205617842b0>,\n",
       "   <bus_indentifier.Eta at 0x205627a7c70>)],\n",
       " [(<bus_indentifier.Eta at 0x2056231a080>,\n",
       "   <bus_indentifier.Eta at 0x2056188a860>),\n",
       "  (<bus_indentifier.Eta at 0x2056231a080>,\n",
       "   <bus_indentifier.Eta at 0x20561784520>),\n",
       "  (<bus_indentifier.Eta at 0x2056231a080>,\n",
       "   <bus_indentifier.Eta at 0x205627a6140>),\n",
       "  (<bus_indentifier.Eta at 0x2056231a080>,\n",
       "   <bus_indentifier.Eta at 0x205627a6290>),\n",
       "  (<bus_indentifier.Eta at 0x2056231a080>,\n",
       "   <bus_indentifier.Eta at 0x205627a5ba0>)],\n",
       " [(<bus_indentifier.Eta at 0x20562981000>,\n",
       "   <bus_indentifier.Eta at 0x2056231a650>),\n",
       "  (<bus_indentifier.Eta at 0x20562981000>,\n",
       "   <bus_indentifier.Eta at 0x2056188a860>),\n",
       "  (<bus_indentifier.Eta at 0x20562981000>,\n",
       "   <bus_indentifier.Eta at 0x20561784520>),\n",
       "  (<bus_indentifier.Eta at 0x20562981000>,\n",
       "   <bus_indentifier.Eta at 0x205627a6140>),\n",
       "  (<bus_indentifier.Eta at 0x20562981000>,\n",
       "   <bus_indentifier.Eta at 0x205627a6290>)],\n",
       " [(<bus_indentifier.Eta at 0x20562982290>,\n",
       "   <bus_indentifier.Eta at 0x205629825c0>),\n",
       "  (<bus_indentifier.Eta at 0x20562982290>,\n",
       "   <bus_indentifier.Eta at 0x2056231a650>),\n",
       "  (<bus_indentifier.Eta at 0x20562982290>,\n",
       "   <bus_indentifier.Eta at 0x2056188a860>),\n",
       "  (<bus_indentifier.Eta at 0x20562982290>,\n",
       "   <bus_indentifier.Eta at 0x20561784520>),\n",
       "  (<bus_indentifier.Eta at 0x20562982290>,\n",
       "   <bus_indentifier.Eta at 0x205627a6140>)],\n",
       " [(<bus_indentifier.Eta at 0x205629810f0>,\n",
       "   <bus_indentifier.Eta at 0x205629817b0>),\n",
       "  (<bus_indentifier.Eta at 0x205629810f0>,\n",
       "   <bus_indentifier.Eta at 0x205629825c0>),\n",
       "  (<bus_indentifier.Eta at 0x205629810f0>,\n",
       "   <bus_indentifier.Eta at 0x2056231a650>),\n",
       "  (<bus_indentifier.Eta at 0x205629810f0>,\n",
       "   <bus_indentifier.Eta at 0x2056188a860>),\n",
       "  (<bus_indentifier.Eta at 0x205629810f0>,\n",
       "   <bus_indentifier.Eta at 0x20561784520>)],\n",
       " [(<bus_indentifier.Eta at 0x20562981ff0>,\n",
       "   <bus_indentifier.Eta at 0x20562983460>),\n",
       "  (<bus_indentifier.Eta at 0x20562981ff0>,\n",
       "   <bus_indentifier.Eta at 0x20562980b20>),\n",
       "  (<bus_indentifier.Eta at 0x20562981ff0>,\n",
       "   <bus_indentifier.Eta at 0x205629817b0>),\n",
       "  (<bus_indentifier.Eta at 0x20562981ff0>,\n",
       "   <bus_indentifier.Eta at 0x205629825c0>),\n",
       "  (<bus_indentifier.Eta at 0x20562981ff0>,\n",
       "   <bus_indentifier.Eta at 0x2056231a650>)],\n",
       " [(<bus_indentifier.Eta at 0x20562980190>,\n",
       "   <bus_indentifier.Eta at 0x20562980b20>),\n",
       "  (<bus_indentifier.Eta at 0x20562980190>,\n",
       "   <bus_indentifier.Eta at 0x205629817b0>),\n",
       "  (<bus_indentifier.Eta at 0x20562980190>,\n",
       "   <bus_indentifier.Eta at 0x205629825c0>),\n",
       "  (<bus_indentifier.Eta at 0x20562980190>,\n",
       "   <bus_indentifier.Eta at 0x2056231a650>),\n",
       "  (<bus_indentifier.Eta at 0x20562980190>,\n",
       "   <bus_indentifier.Eta at 0x2056188a860>)],\n",
       " [(<bus_indentifier.Eta at 0x20562982a70>,\n",
       "   <bus_indentifier.Eta at 0x20562981cf0>),\n",
       "  (<bus_indentifier.Eta at 0x20562982a70>,\n",
       "   <bus_indentifier.Eta at 0x20562983460>),\n",
       "  (<bus_indentifier.Eta at 0x20562982a70>,\n",
       "   <bus_indentifier.Eta at 0x20562980b20>),\n",
       "  (<bus_indentifier.Eta at 0x20562982a70>,\n",
       "   <bus_indentifier.Eta at 0x205629817b0>),\n",
       "  (<bus_indentifier.Eta at 0x20562982a70>,\n",
       "   <bus_indentifier.Eta at 0x205629825c0>)],\n",
       " [(<bus_indentifier.Eta at 0x20562981210>,\n",
       "   <bus_indentifier.Eta at 0x20562980610>),\n",
       "  (<bus_indentifier.Eta at 0x20562981210>,\n",
       "   <bus_indentifier.Eta at 0x20562981cf0>),\n",
       "  (<bus_indentifier.Eta at 0x20562981210>,\n",
       "   <bus_indentifier.Eta at 0x20562983460>),\n",
       "  (<bus_indentifier.Eta at 0x20562981210>,\n",
       "   <bus_indentifier.Eta at 0x20562980b20>),\n",
       "  (<bus_indentifier.Eta at 0x20562981210>,\n",
       "   <bus_indentifier.Eta at 0x205629817b0>)],\n",
       " [(<bus_indentifier.Eta at 0x205615b61a0>,\n",
       "   <bus_indentifier.Eta at 0x205615b6500>),\n",
       "  (<bus_indentifier.Eta at 0x205615b61a0>,\n",
       "   <bus_indentifier.Eta at 0x20562980610>),\n",
       "  (<bus_indentifier.Eta at 0x205615b61a0>,\n",
       "   <bus_indentifier.Eta at 0x20562981cf0>),\n",
       "  (<bus_indentifier.Eta at 0x205615b61a0>,\n",
       "   <bus_indentifier.Eta at 0x20562983460>),\n",
       "  (<bus_indentifier.Eta at 0x205615b61a0>,\n",
       "   <bus_indentifier.Eta at 0x20562980b20>)],\n",
       " [(<bus_indentifier.Eta at 0x205615b5d50>,\n",
       "   <bus_indentifier.Eta at 0x205615b5db0>),\n",
       "  (<bus_indentifier.Eta at 0x205615b5d50>,\n",
       "   <bus_indentifier.Eta at 0x205615b6500>),\n",
       "  (<bus_indentifier.Eta at 0x205615b5d50>,\n",
       "   <bus_indentifier.Eta at 0x20562980610>),\n",
       "  (<bus_indentifier.Eta at 0x205615b5d50>,\n",
       "   <bus_indentifier.Eta at 0x20562981cf0>),\n",
       "  (<bus_indentifier.Eta at 0x205615b5d50>,\n",
       "   <bus_indentifier.Eta at 0x20562983460>)],\n",
       " [(<bus_indentifier.Eta at 0x205615b52d0>,\n",
       "   <bus_indentifier.Eta at 0x205615b62f0>),\n",
       "  (<bus_indentifier.Eta at 0x205615b52d0>,\n",
       "   <bus_indentifier.Eta at 0x205615b4c10>),\n",
       "  (<bus_indentifier.Eta at 0x205615b52d0>,\n",
       "   <bus_indentifier.Eta at 0x205615b5db0>),\n",
       "  (<bus_indentifier.Eta at 0x205615b52d0>,\n",
       "   <bus_indentifier.Eta at 0x205615b6500>),\n",
       "  (<bus_indentifier.Eta at 0x205615b52d0>,\n",
       "   <bus_indentifier.Eta at 0x20562980610>)],\n",
       " [(<bus_indentifier.Eta at 0x205615b6320>,\n",
       "   <bus_indentifier.Eta at 0x205615b5db0>),\n",
       "  (<bus_indentifier.Eta at 0x205615b6320>,\n",
       "   <bus_indentifier.Eta at 0x205615b6500>),\n",
       "  (<bus_indentifier.Eta at 0x205615b6320>,\n",
       "   <bus_indentifier.Eta at 0x20562980610>),\n",
       "  (<bus_indentifier.Eta at 0x205615b6320>,\n",
       "   <bus_indentifier.Eta at 0x20562981cf0>),\n",
       "  (<bus_indentifier.Eta at 0x205615b6320>,\n",
       "   <bus_indentifier.Eta at 0x20562983460>)],\n",
       " [(<bus_indentifier.Eta at 0x205615b7250>,\n",
       "   <bus_indentifier.Eta at 0x205615b4c10>),\n",
       "  (<bus_indentifier.Eta at 0x205615b7250>,\n",
       "   <bus_indentifier.Eta at 0x205615b5db0>),\n",
       "  (<bus_indentifier.Eta at 0x205615b7250>,\n",
       "   <bus_indentifier.Eta at 0x205615b6500>),\n",
       "  (<bus_indentifier.Eta at 0x205615b7250>,\n",
       "   <bus_indentifier.Eta at 0x20562980610>),\n",
       "  (<bus_indentifier.Eta at 0x205615b7250>,\n",
       "   <bus_indentifier.Eta at 0x20562981cf0>)],\n",
       " [(<bus_indentifier.Eta at 0x205615b5a80>,\n",
       "   <bus_indentifier.Eta at 0x205615b57e0>),\n",
       "  (<bus_indentifier.Eta at 0x205615b5a80>,\n",
       "   <bus_indentifier.Eta at 0x205615b62f0>),\n",
       "  (<bus_indentifier.Eta at 0x205615b5a80>,\n",
       "   <bus_indentifier.Eta at 0x205615b4c10>),\n",
       "  (<bus_indentifier.Eta at 0x205615b5a80>,\n",
       "   <bus_indentifier.Eta at 0x205615b5db0>),\n",
       "  (<bus_indentifier.Eta at 0x205615b5a80>,\n",
       "   <bus_indentifier.Eta at 0x205615b6500>)],\n",
       " [(<bus_indentifier.Eta at 0x205616a0dc0>,\n",
       "   <bus_indentifier.Eta at 0x205616a1060>),\n",
       "  (<bus_indentifier.Eta at 0x205616a0dc0>,\n",
       "   <bus_indentifier.Eta at 0x205615b57e0>),\n",
       "  (<bus_indentifier.Eta at 0x205616a0dc0>,\n",
       "   <bus_indentifier.Eta at 0x205615b62f0>),\n",
       "  (<bus_indentifier.Eta at 0x205616a0dc0>,\n",
       "   <bus_indentifier.Eta at 0x205615b4c10>),\n",
       "  (<bus_indentifier.Eta at 0x205616a0dc0>,\n",
       "   <bus_indentifier.Eta at 0x205615b5db0>)],\n",
       " [(<bus_indentifier.Eta at 0x205616a03a0>,\n",
       "   <bus_indentifier.Eta at 0x205616a0520>),\n",
       "  (<bus_indentifier.Eta at 0x205616a03a0>,\n",
       "   <bus_indentifier.Eta at 0x205616a0a60>),\n",
       "  (<bus_indentifier.Eta at 0x205616a03a0>,\n",
       "   <bus_indentifier.Eta at 0x205616a1060>),\n",
       "  (<bus_indentifier.Eta at 0x205616a03a0>,\n",
       "   <bus_indentifier.Eta at 0x205615b57e0>),\n",
       "  (<bus_indentifier.Eta at 0x205616a03a0>,\n",
       "   <bus_indentifier.Eta at 0x205615b62f0>)],\n",
       " [(<bus_indentifier.Eta at 0x205616a0c70>,\n",
       "   <bus_indentifier.Eta at 0x205616a0520>),\n",
       "  (<bus_indentifier.Eta at 0x205616a0c70>,\n",
       "   <bus_indentifier.Eta at 0x205616a0a60>),\n",
       "  (<bus_indentifier.Eta at 0x205616a0c70>,\n",
       "   <bus_indentifier.Eta at 0x205616a1060>),\n",
       "  (<bus_indentifier.Eta at 0x205616a0c70>,\n",
       "   <bus_indentifier.Eta at 0x205615b57e0>),\n",
       "  (<bus_indentifier.Eta at 0x205616a0c70>,\n",
       "   <bus_indentifier.Eta at 0x205615b62f0>)],\n",
       " [(<bus_indentifier.Eta at 0x205616b7bb0>,\n",
       "   <bus_indentifier.Eta at 0x20560935f60>),\n",
       "  (<bus_indentifier.Eta at 0x205616b7bb0>,\n",
       "   <bus_indentifier.Eta at 0x205616a0520>),\n",
       "  (<bus_indentifier.Eta at 0x205616b7bb0>,\n",
       "   <bus_indentifier.Eta at 0x205616a0a60>),\n",
       "  (<bus_indentifier.Eta at 0x205616b7bb0>,\n",
       "   <bus_indentifier.Eta at 0x205616a1060>),\n",
       "  (<bus_indentifier.Eta at 0x205616b7bb0>,\n",
       "   <bus_indentifier.Eta at 0x205615b57e0>)],\n",
       " [(<bus_indentifier.Eta at 0x205616b42b0>,\n",
       "   <bus_indentifier.Eta at 0x2055c155750>),\n",
       "  (<bus_indentifier.Eta at 0x205616b42b0>,\n",
       "   <bus_indentifier.Eta at 0x20560935f60>),\n",
       "  (<bus_indentifier.Eta at 0x205616b42b0>,\n",
       "   <bus_indentifier.Eta at 0x205616a0520>),\n",
       "  (<bus_indentifier.Eta at 0x205616b42b0>,\n",
       "   <bus_indentifier.Eta at 0x205616a0a60>),\n",
       "  (<bus_indentifier.Eta at 0x205616b42b0>,\n",
       "   <bus_indentifier.Eta at 0x205616a1060>)],\n",
       " [(<bus_indentifier.Eta at 0x2056149b070>,\n",
       "   <bus_indentifier.Eta at 0x2056149a440>),\n",
       "  (<bus_indentifier.Eta at 0x2056149b070>,\n",
       "   <bus_indentifier.Eta at 0x2055c155750>),\n",
       "  (<bus_indentifier.Eta at 0x2056149b070>,\n",
       "   <bus_indentifier.Eta at 0x20560935f60>),\n",
       "  (<bus_indentifier.Eta at 0x2056149b070>,\n",
       "   <bus_indentifier.Eta at 0x205616a0520>),\n",
       "  (<bus_indentifier.Eta at 0x2056149b070>,\n",
       "   <bus_indentifier.Eta at 0x205616a0a60>)],\n",
       " [(<bus_indentifier.Eta at 0x20562903130>,\n",
       "   <bus_indentifier.Eta at 0x20562901ed0>),\n",
       "  (<bus_indentifier.Eta at 0x20562903130>,\n",
       "   <bus_indentifier.Eta at 0x2056149a440>),\n",
       "  (<bus_indentifier.Eta at 0x20562903130>,\n",
       "   <bus_indentifier.Eta at 0x2055c155750>),\n",
       "  (<bus_indentifier.Eta at 0x20562903130>,\n",
       "   <bus_indentifier.Eta at 0x20560935f60>),\n",
       "  (<bus_indentifier.Eta at 0x20562903130>,\n",
       "   <bus_indentifier.Eta at 0x205616a0520>)],\n",
       " [(<bus_indentifier.Eta at 0x205629022c0>,\n",
       "   <bus_indentifier.Eta at 0x20562901ed0>),\n",
       "  (<bus_indentifier.Eta at 0x205629022c0>,\n",
       "   <bus_indentifier.Eta at 0x2056149a440>),\n",
       "  (<bus_indentifier.Eta at 0x205629022c0>,\n",
       "   <bus_indentifier.Eta at 0x2055c155750>),\n",
       "  (<bus_indentifier.Eta at 0x205629022c0>,\n",
       "   <bus_indentifier.Eta at 0x20560935f60>),\n",
       "  (<bus_indentifier.Eta at 0x205629022c0>,\n",
       "   <bus_indentifier.Eta at 0x205616a0520>)],\n",
       " [(<bus_indentifier.Eta at 0x2056160a500>,\n",
       "   <bus_indentifier.Eta at 0x20561608310>),\n",
       "  (<bus_indentifier.Eta at 0x2056160a500>,\n",
       "   <bus_indentifier.Eta at 0x2056141d3f0>),\n",
       "  (<bus_indentifier.Eta at 0x2056160a500>,\n",
       "   <bus_indentifier.Eta at 0x20562901ed0>),\n",
       "  (<bus_indentifier.Eta at 0x2056160a500>,\n",
       "   <bus_indentifier.Eta at 0x2056149a440>),\n",
       "  (<bus_indentifier.Eta at 0x2056160a500>,\n",
       "   <bus_indentifier.Eta at 0x2055c155750>)],\n",
       " [(<bus_indentifier.Eta at 0x2056160bc70>,\n",
       "   <bus_indentifier.Eta at 0x2056160b0a0>),\n",
       "  (<bus_indentifier.Eta at 0x2056160bc70>,\n",
       "   <bus_indentifier.Eta at 0x20561608310>),\n",
       "  (<bus_indentifier.Eta at 0x2056160bc70>,\n",
       "   <bus_indentifier.Eta at 0x2056141d3f0>),\n",
       "  (<bus_indentifier.Eta at 0x2056160bc70>,\n",
       "   <bus_indentifier.Eta at 0x20562901ed0>),\n",
       "  (<bus_indentifier.Eta at 0x2056160bc70>,\n",
       "   <bus_indentifier.Eta at 0x2056149a440>)],\n",
       " [(<bus_indentifier.Eta at 0x20560bb8ee0>,\n",
       "   <bus_indentifier.Eta at 0x20560bbb100>),\n",
       "  (<bus_indentifier.Eta at 0x20560bb8ee0>,\n",
       "   <bus_indentifier.Eta at 0x2056160b0a0>),\n",
       "  (<bus_indentifier.Eta at 0x20560bb8ee0>,\n",
       "   <bus_indentifier.Eta at 0x20561608310>),\n",
       "  (<bus_indentifier.Eta at 0x20560bb8ee0>,\n",
       "   <bus_indentifier.Eta at 0x2056141d3f0>),\n",
       "  (<bus_indentifier.Eta at 0x20560bb8ee0>,\n",
       "   <bus_indentifier.Eta at 0x20562901ed0>)],\n",
       " [(<bus_indentifier.Eta at 0x20560bbb3a0>,\n",
       "   <bus_indentifier.Eta at 0x20560bb81c0>),\n",
       "  (<bus_indentifier.Eta at 0x20560bbb3a0>,\n",
       "   <bus_indentifier.Eta at 0x20560bbb100>),\n",
       "  (<bus_indentifier.Eta at 0x20560bbb3a0>,\n",
       "   <bus_indentifier.Eta at 0x2056160b0a0>),\n",
       "  (<bus_indentifier.Eta at 0x20560bbb3a0>,\n",
       "   <bus_indentifier.Eta at 0x20561608310>),\n",
       "  (<bus_indentifier.Eta at 0x20560bbb3a0>,\n",
       "   <bus_indentifier.Eta at 0x2056141d3f0>)],\n",
       " [(<bus_indentifier.Eta at 0x20560bb9a50>,\n",
       "   <bus_indentifier.Eta at 0x20560bb8df0>),\n",
       "  (<bus_indentifier.Eta at 0x20560bb9a50>,\n",
       "   <bus_indentifier.Eta at 0x20560bb81c0>),\n",
       "  (<bus_indentifier.Eta at 0x20560bb9a50>,\n",
       "   <bus_indentifier.Eta at 0x20560bbb100>),\n",
       "  (<bus_indentifier.Eta at 0x20560bb9a50>,\n",
       "   <bus_indentifier.Eta at 0x2056160b0a0>),\n",
       "  (<bus_indentifier.Eta at 0x20560bb9a50>,\n",
       "   <bus_indentifier.Eta at 0x20561608310>)]]"
      ]
     },
     "execution_count": 81,
     "metadata": {},
     "output_type": "execute_result"
    }
   ],
   "execution_count": 81
  },
  {
   "metadata": {
    "ExecuteTime": {
     "end_time": "2024-10-19T00:38:01.781674Z",
     "start_time": "2024-10-19T00:38:01.771673Z"
    }
   },
   "cell_type": "code",
   "source": "all_candidate_eta_time_gaps[0]",
   "id": "f80a17c9b17375f",
   "outputs": [
    {
     "data": {
      "text/plain": [
       "[1.3166666666666667,\n",
       " 9.5,\n",
       " 17.316666666666666,\n",
       " 28.933333333333334,\n",
       " 25.116666666666667,\n",
       " 29.8,\n",
       " 23.716666666666665,\n",
       " 26.866666666666667,\n",
       " 17.966666666666665,\n",
       " 19.366666666666667,\n",
       " 26.666666666666668,\n",
       " 16.933333333333334,\n",
       " 15.916666666666666,\n",
       " 18.65,\n",
       " 19.45,\n",
       " 24.333333333333332,\n",
       " 25.85,\n",
       " 19.033333333333335,\n",
       " 26.616666666666667,\n",
       " 17.333333333333332,\n",
       " 16.25,\n",
       " 18.966666666666665,\n",
       " 15.666666666666666,\n",
       " 13.25,\n",
       " 11.783333333333333,\n",
       " 12.733333333333333,\n",
       " 10.683333333333334,\n",
       " 20.366666666666667,\n",
       " 22.3,\n",
       " 21.366666666666667,\n",
       " 28.016666666666666,\n",
       " 26.116666666666667,\n",
       " 32.266666666666666,\n",
       " 41.11666666666667,\n",
       " 39.766666666666666,\n",
       " 42.733333333333334,\n",
       " 43.516666666666666,\n",
       " 40.4,\n",
       " 49.46666666666667,\n",
       " 40.11666666666667,\n",
       " 44.03333333333333,\n",
       " 40.483333333333334,\n",
       " 40.68333333333333,\n",
       " 19.566666666666666,\n",
       " 40.68333333333333,\n",
       " 30.016666666666666,\n",
       " 24.116666666666667,\n",
       " 34.68333333333333,\n",
       " 36.6,\n",
       " 37.6,\n",
       " 34.85,\n",
       " 30.3,\n",
       " 37.31666666666667,\n",
       " 51.8,\n",
       " 58.18333333333333,\n",
       " 48.46666666666667,\n",
       " 50.483333333333334,\n",
       " 49.63333333333333,\n",
       " 50.75,\n",
       " 49.833333333333336]"
      ]
     },
     "execution_count": 82,
     "metadata": {},
     "output_type": "execute_result"
    }
   ],
   "execution_count": 82
  },
  {
   "metadata": {},
   "cell_type": "code",
   "outputs": [],
   "execution_count": null,
   "source": "",
   "id": "1274aac1570a0ad2"
  },
  {
   "cell_type": "markdown",
   "id": "b6254d90",
   "metadata": {},
   "source": [
    "# Test"
   ]
  },
  {
   "metadata": {
    "ExecuteTime": {
     "end_time": "2024-10-20T15:07:33.310946Z",
     "start_time": "2024-10-20T15:07:33.283947Z"
    }
   },
   "cell_type": "code",
   "source": [
    "_ = [1,4,6, 2, 1.5]\n",
    "_.sort()\n",
    "_"
   ],
   "id": "ae803c8db6fad20e",
   "outputs": [
    {
     "data": {
      "text/plain": [
       "[1, 1.5, 2, 4, 6]"
      ]
     },
     "execution_count": 83,
     "metadata": {},
     "output_type": "execute_result"
    }
   ],
   "execution_count": 83
  },
  {
   "cell_type": "code",
   "execution_count": 132,
   "id": "e839a0c1",
   "metadata": {},
   "outputs": [
    {
     "data": {
      "text/plain": [
       "Timestamp('2024-09-18 10:34:13+0800', tz='UTC+08:00')"
      ]
     },
     "execution_count": 132,
     "metadata": {},
     "output_type": "execute_result"
    }
   ],
   "source": [
    "a = (testLine.eta_groups.get(9)[0]).backward_search_feasible_etas(testLine.eta_groups.get(8))\n",
    "a[0].eta"
   ]
  },
  {
   "cell_type": "code",
   "execution_count": 72,
   "id": "84bc1f9f",
   "metadata": {},
   "outputs": [
    {
     "data": {
      "image/png": "[encoded data removed]",
      "text/plain": [
       "<Figure size 2000x1000 with 1 Axes>"
      ]
     },
     "metadata": {},
     "output_type": "display_data"
    }
   ],
   "source": [
    "plot_etas = {}\n",
    "for name, group in testLine.eta_groups.items():\n",
    "    plot_etas[name] = [eta.eta for eta in group]\n",
    "\n",
    "plt.figure(figsize=(20,10))\n",
    "for name, group in plot_etas.items():\n",
    "    plt.scatter([name]*len(group), group, label=name)\n"
   ]
  },
  {
   "cell_type": "code",
   "execution_count": 6,
   "id": "fc4045d8dd243c95",
   "metadata": {
    "ExecuteTime": {
     "end_time": "2024-10-17T01:35:39.300722Z",
     "start_time": "2024-10-17T01:35:39.117520Z"
    }
   },
   "outputs": [
    {
     "data": {
      "image/png": "[encoded data removed]",
      "text/plain": [
       "<Figure size 640x480 with 1 Axes>"
      ]
     },
     "metadata": {},
     "output_type": "display_data"
    }
   ],
   "source": [
    "data_by_seq = data.groupby('seq')\n",
    "# plot the eta scatter of each seq\n",
    "for name, group in data_by_seq:\n",
    "    plt.scatter(group['seq'], group['eta'], label=name)"
   ]
  },
  {
   "metadata": {
    "ExecuteTime": {
     "end_time": "2024-10-18T23:45:51.342962Z",
     "start_time": "2024-10-18T23:45:51.335960Z"
    }
   },
   "cell_type": "code",
   "source": [
    "a_eta = [10, 20, 25, 40, 50]\n",
    "b_eta = [60, 40, 55, 89, 102]"
   ],
   "id": "38acfacdc8efb9b5",
   "outputs": [],
   "execution_count": 2
  },
  {
   "metadata": {
    "ExecuteTime": {
     "end_time": "2024-10-18T23:45:52.061733Z",
     "start_time": "2024-10-18T23:45:52.043614Z"
    }
   },
   "cell_type": "code",
   "source": [
    "time_diffs = []\n",
    "for i, eta1 in enumerate(b_eta):\n",
    "    inner_diffs = []\n",
    "    for j, eta2 in enumerate(a_eta):\n",
    "        if eta1 > eta2:\n",
    "            inner_diffs.append(eta1 - eta2)\n",
    "    time_diffs.append(inner_diffs)\n",
    "time_diffs"
   ],
   "id": "140045637d82328c",
   "outputs": [
    {
     "data": {
      "text/plain": [
       "[[50, 40, 35, 20, 10],\n",
       " [30, 20, 15],\n",
       " [45, 35, 30, 15, 5],\n",
       " [79, 69, 64, 49, 39],\n",
       " [92, 82, 77, 62, 52]]"
      ]
     },
     "execution_count": 3,
     "metadata": {},
     "output_type": "execute_result"
    }
   ],
   "execution_count": 3
  },
  {
   "metadata": {
    "ExecuteTime": {
     "end_time": "2024-10-18T23:45:53.553333Z",
     "start_time": "2024-10-18T23:45:53.534337Z"
    }
   },
   "cell_type": "code",
   "source": [
    "var_candidates = []\n",
    "for i, eta1 in enumerate(b_eta):\n",
    "    inner_ = []\n",
    "    for j, eta2 in enumerate(a_eta):\n",
    "        if eta1 > eta2:\n",
    "            inner_.append(j)\n",
    "    var_candidates.append(inner_)\n",
    "var_candidates"
   ],
   "id": "45b70d6446fdabae",
   "outputs": [
    {
     "data": {
      "text/plain": [
       "[[0, 1, 2, 3, 4], [0, 1, 2], [0, 1, 2, 3, 4], [0, 1, 2, 3, 4], [0, 1, 2, 3, 4]]"
      ]
     },
     "execution_count": 4,
     "metadata": {},
     "output_type": "execute_result"
    }
   ],
   "execution_count": 4
  },
  {
   "metadata": {
    "ExecuteTime": {
     "end_time": "2024-10-18T22:56:55.144161Z",
     "start_time": "2024-10-18T22:56:55.131161Z"
    }
   },
   "cell_type": "code",
   "source": [
    "_ = [item for sublist in var_candidates for item in sublist]\n",
    "_"
   ],
   "id": "53e75b514bbe6915",
   "outputs": [
    {
     "data": {
      "text/plain": [
       "[0, 0, 1, 0, 1, 0, 1, 2, 3, 0, 1, 2, 3]"
      ]
     },
     "execution_count": 115,
     "metadata": {},
     "output_type": "execute_result"
    }
   ],
   "execution_count": 115
  },
  {
   "metadata": {
    "ExecuteTime": {
     "end_time": "2024-10-18T22:58:18.300621Z",
     "start_time": "2024-10-18T22:58:18.294619Z"
    }
   },
   "cell_type": "code",
   "source": "np.where(np.array(_) == 0)[0]",
   "id": "4a417d275708c3f9",
   "outputs": [
    {
     "data": {
      "text/plain": [
       "array([0, 1, 3, 5, 9], dtype=int64)"
      ]
     },
     "execution_count": 116,
     "metadata": {},
     "output_type": "execute_result"
    }
   ],
   "execution_count": 116
  },
  {
   "metadata": {
    "ExecuteTime": {
     "end_time": "2024-10-19T00:11:26.894480Z",
     "start_time": "2024-10-19T00:11:25.358960Z"
    }
   },
   "cell_type": "code",
   "source": [
    "import geatpy as ea\n",
    "\n",
    "flattened_time_diffs = [item for sublist in time_diffs for item in sublist]\n",
    "flattened_var_candidates = [item for sublist in var_candidates for item in sublist]\n",
    "# Use geatpy to solve the problem: choose one number from each inner_list of time_diffs, and make the variance of the chosen numbers least\n",
    "class MyProblem(ea.Problem): # 继承Problem父类\n",
    "    def __init__(self):\n",
    "        name = 'MyProblem' # 初始化name（函数名称，可以随意设置）\n",
    "        M = 1 # 初始化M（目标维数）\n",
    "        maxormins = [1] # 初始化maxormins（目标最小最大化标记列表，1：最小化该目标；-1：最大化该目标）\n",
    "        Dim = len(flattened_time_diffs) # 初始化Dim（决策变量维数）\n",
    "        varTypes = [1] * Dim # 初始化varTypes（决策变量的类型，0：实数；1：整数）\n",
    "        lb = [0] * Dim # 决策变量下界\n",
    "        ub = [1] * Dim # 决策变量上界\n",
    "        lbin = [1] * Dim # 决策变量下边界\n",
    "        ubin = [1] * Dim # 决策变量上边界\n",
    "        # 调用父类构造方法完成实例化\n",
    "        ea.Problem.__init__(self, name, M, maxormins, Dim, varTypes, lb, ub, lbin, ubin)\n",
    "    def evalVars(self, Vars):\n",
    "        # Calcualte the variance of the chosen time_diffs\n",
    "        chosen_time_diffs = Vars * flattened_time_diffs\n",
    "        #print(chosen_time_diffs)\n",
    "        non_zero_matrix = np.where(chosen_time_diffs == 0, np.nan, chosen_time_diffs)\n",
    "        \n",
    "        #print(mean)\n",
    "        variance = np.nanvar(non_zero_matrix, axis=1).reshape(-1, 1) # 计算目标函数值，赋值给pop种群对象的ObjV属性\n",
    "        # print(variance)\n",
    "        cv_list1 = []\n",
    "        count_num = 0\n",
    "        for idx, inner_list in enumerate(time_diffs):\n",
    "            _cv = abs(np.sum(Vars[:, count_num:count_num+len(inner_list)], axis=1) - 1).reshape(-1, 1)\n",
    "            count_num += len(inner_list)\n",
    "            cv_list1.append(_cv)\n",
    "        \n",
    "        cv_list2 = []\n",
    "        for eta_idx in set(flattened_var_candidates):\n",
    "            _indices = np.where(np.array(flattened_var_candidates) == eta_idx)[0]\n",
    "            _cv = abs(np.sum(Vars[:, np.where(np.array(flattened_var_candidates) == eta_idx)[0]], axis=1) - 1).reshape(-1, 1)\n",
    "            cv_list2.append(_cv)\n",
    "        # cv1 = (np.sum(Vars[:, [0, 5, 8, 13, 18]], axis=1) - 2).reshape(-1, 1)\n",
    "        # cv2 = (np.sum(Vars[:, [1, 6, 9, 14, 19]], axis=1) - 2).reshape(-1, 1)\n",
    "        # cv3 = (np.sum(Vars[:, [2, 7, 10, 15, 20]], axis=1) - 2).reshape(-1, 1)\n",
    "        # cv4 = (np.sum(Vars[:, [3, 11, 16, 21]], axis=1) - 2).reshape(-1, 1)\n",
    "        # cv5 = (np.sum(Vars[:, [4, 12, 17, 22]], axis=1) - 2).reshape(-1, 1)\n",
    "        # cv_list2 = [cv1, cv2, cv3, cv4, cv5]\n",
    "        \n",
    "        cv = np.hstack(cv_list1+cv_list2) \n",
    "        return variance, cv\n",
    "    \n",
    "problem = MyProblem()\n",
    "algorithm = ea.soea_DE_best_1_bin_templet(problem, ea.Population(Encoding='RI', NIND=1000),\n",
    "        MAXGEN=1000)\n",
    "algorithm.mutOper.F = 0.5  # 差分进化中的参数F\n",
    "algorithm.recOper.XOVR = 0.7  # 重组概率\n",
    "# 求解\n",
    "res = ea.optimize(algorithm,\n",
    "                  verbose=True,\n",
    "                  drawing=1,\n",
    "                  outputMsg=True,\n",
    "                  drawLog=False,\n",
    "                  )# 最大进化代数。)# 实例化一个算法模板对象\n",
    "\n",
    "res['Vars'] * flattened_time_diffs"
   ],
   "id": "ef3d68ef8e510ce6",
   "outputs": [
    {
     "data": {
      "text/plain": [
       "<Figure size 640x480 with 1 Axes>"
      ],
      "image/png": "[encoded data removed]"
     },
     "metadata": {},
     "output_type": "display_data"
    },
    {
     "name": "stdout",
     "output_type": "stream",
     "text": [
      "Execution time: 1.3028740882873535 s\n",
      "Evaluation number: 1000000\n",
      "Optimization fail: Could not find any feasible solution.\n"
     ]
    },
    {
     "ename": "TypeError",
     "evalue": "can't multiply sequence by non-int of type 'NoneType'",
     "output_type": "error",
     "traceback": [
      "\u001B[1;31m---------------------------------------------------------------------------\u001B[0m",
      "\u001B[1;31mTypeError\u001B[0m                                 Traceback (most recent call last)",
      "Cell \u001B[1;32mIn[62], line 64\u001B[0m\n\u001B[0;32m     56\u001B[0m \u001B[38;5;66;03m# 求解\u001B[39;00m\n\u001B[0;32m     57\u001B[0m res \u001B[38;5;241m=\u001B[39m ea\u001B[38;5;241m.\u001B[39moptimize(algorithm,\n\u001B[0;32m     58\u001B[0m                   verbose\u001B[38;5;241m=\u001B[39m\u001B[38;5;28;01mTrue\u001B[39;00m,\n\u001B[0;32m     59\u001B[0m                   drawing\u001B[38;5;241m=\u001B[39m\u001B[38;5;241m1\u001B[39m,\n\u001B[0;32m     60\u001B[0m                   outputMsg\u001B[38;5;241m=\u001B[39m\u001B[38;5;28;01mTrue\u001B[39;00m,\n\u001B[0;32m     61\u001B[0m                   drawLog\u001B[38;5;241m=\u001B[39m\u001B[38;5;28;01mFalse\u001B[39;00m,\n\u001B[0;32m     62\u001B[0m                   )\u001B[38;5;66;03m# 最大进化代数。)# 实例化一个算法模板对象\u001B[39;00m\n\u001B[1;32m---> 64\u001B[0m \u001B[43mres\u001B[49m\u001B[43m[\u001B[49m\u001B[38;5;124;43m'\u001B[39;49m\u001B[38;5;124;43mVars\u001B[39;49m\u001B[38;5;124;43m'\u001B[39;49m\u001B[43m]\u001B[49m\u001B[43m \u001B[49m\u001B[38;5;241;43m*\u001B[39;49m\u001B[43m \u001B[49m\u001B[43mflattened_time_diffs\u001B[49m\n",
      "\u001B[1;31mTypeError\u001B[0m: can't multiply sequence by non-int of type 'NoneType'"
     ]
    }
   ],
   "execution_count": 62
  },
  {
   "metadata": {
    "ExecuteTime": {
     "end_time": "2024-10-19T00:02:22.267658Z",
     "start_time": "2024-10-19T00:02:22.259151Z"
    }
   },
   "cell_type": "code",
   "source": "var_candidates",
   "id": "6c637dc806c31d1c",
   "outputs": [
    {
     "data": {
      "text/plain": [
       "[[0, 1, 2, 3, 4], [0, 1, 2], [0, 1, 2, 3, 4], [0, 1, 2, 3, 4], [0, 1, 2, 3, 4]]"
      ]
     },
     "execution_count": 51,
     "metadata": {},
     "output_type": "execute_result"
    }
   ],
   "execution_count": 51
  },
  {
   "metadata": {
    "ExecuteTime": {
     "end_time": "2024-10-18T22:41:21.112380Z",
     "start_time": "2024-10-18T22:41:21.102381Z"
    }
   },
   "cell_type": "code",
   "source": "np.var(np.array([2,5,8,3,8]))",
   "id": "2aedd6d64a32697d",
   "outputs": [
    {
     "data": {
      "text/plain": [
       "6.16"
      ]
     },
     "execution_count": 95,
     "metadata": {},
     "output_type": "execute_result"
    }
   ],
   "execution_count": 95
  },
  {
   "metadata": {
    "ExecuteTime": {
     "end_time": "2024-10-18T22:40:10.784601Z",
     "start_time": "2024-10-18T22:40:10.765631Z"
    }
   },
   "cell_type": "code",
   "source": "np.var(res['Vars'] * flattened_time_diffs)",
   "id": "893f1fde12398765",
   "outputs": [
    {
     "data": {
      "text/plain": [
       "8.76923076923077"
      ]
     },
     "execution_count": 94,
     "metadata": {},
     "output_type": "execute_result"
    }
   ],
   "execution_count": 94
  },
  {
   "metadata": {
    "ExecuteTime": {
     "end_time": "2024-10-18T22:47:12.854214Z",
     "start_time": "2024-10-18T22:47:12.838720Z"
    }
   },
   "cell_type": "code",
   "source": [
    "c = res['Vars'] * flattened_time_diffs\n",
    "c = np.where(c == 0, np.nan, c)\n",
    "np.nanvar(c)"
   ],
   "id": "5b12852340d493d6",
   "outputs": [
    {
     "data": {
      "text/plain": [
       "6.16"
      ]
     },
     "execution_count": 100,
     "metadata": {},
     "output_type": "execute_result"
    }
   ],
   "execution_count": 100
  },
  {
   "metadata": {
    "ExecuteTime": {
     "end_time": "2024-10-18T23:57:42.439966Z",
     "start_time": "2024-10-18T23:57:42.426963Z"
    }
   },
   "cell_type": "code",
   "source": [
    "b = [1, 2, 3, 4, 5]\n",
    "_ = [1, 313, 414, 4141, 1]\n",
    "a = np.array([[1, 0, 3, 4, 5],\n",
    "             [6, 7, 0, 9, 10],\n",
    "              [11, 0, 13, 14, 15],\n",
    "             [16, 17, 18, 19, 0]])\n",
    "a"
   ],
   "id": "2dd75039ad09957b",
   "outputs": [
    {
     "data": {
      "text/plain": [
       "array([[ 1,  0,  3,  4,  5],\n",
       "       [ 6,  7,  0,  9, 10],\n",
       "       [11,  0, 13, 14, 15],\n",
       "       [16, 17, 18, 19,  0]])"
      ]
     },
     "execution_count": 29,
     "metadata": {},
     "output_type": "execute_result"
    }
   ],
   "execution_count": 29
  },
  {
   "metadata": {
    "ExecuteTime": {
     "end_time": "2024-10-18T23:57:57.065039Z",
     "start_time": "2024-10-18T23:57:57.053045Z"
    }
   },
   "cell_type": "code",
   "source": "a[:, 1:3]",
   "id": "e9c63559f0817d6c",
   "outputs": [
    {
     "data": {
      "text/plain": [
       "array([[ 0,  3],\n",
       "       [ 7,  0],\n",
       "       [ 0, 13],\n",
       "       [17, 18]])"
      ]
     },
     "execution_count": 30,
     "metadata": {},
     "output_type": "execute_result"
    }
   ],
   "execution_count": 30
  },
  {
   "metadata": {},
   "cell_type": "code",
   "outputs": [],
   "execution_count": null,
   "source": "",
   "id": "e83a97a9ddfefda7"
  },
  {
   "metadata": {
    "ExecuteTime": {
     "end_time": "2024-10-18T23:27:20.773527Z",
     "start_time": "2024-10-18T23:27:20.762073Z"
    }
   },
   "cell_type": "code",
   "source": "a[:, np.where(np.array(_) == 1)[0]]",
   "id": "467ccf7030c5ce78",
   "outputs": [
    {
     "data": {
      "text/plain": [
       "array([[ 1,  5],\n",
       "       [ 6, 10],\n",
       "       [11, 15],\n",
       "       [16,  0]])"
      ]
     },
     "execution_count": 145,
     "metadata": {},
     "output_type": "execute_result"
    }
   ],
   "execution_count": 145
  },
  {
   "metadata": {
    "ExecuteTime": {
     "end_time": "2024-10-18T22:49:04.120848Z",
     "start_time": "2024-10-18T22:49:04.108853Z"
    }
   },
   "cell_type": "code",
   "source": [
    "d = np.where(a == 0, np.nan, a)\n",
    "d"
   ],
   "id": "e55319f5c7d37561",
   "outputs": [
    {
     "data": {
      "text/plain": [
       "array([[ 1., nan,  3.,  4.,  5.],\n",
       "       [ 6.,  7., nan,  9., 10.],\n",
       "       [11., nan, 13., 14., 15.],\n",
       "       [16., 17., 18., 19., nan]])"
      ]
     },
     "execution_count": 102,
     "metadata": {},
     "output_type": "execute_result"
    }
   ],
   "execution_count": 102
  }
 ],
 "metadata": {
  "kernelspec": {
   "display_name": "TransAndGeo",
   "language": "python",
   "name": "python3"
  },
  "language_info": {
   "codemirror_mode": {
    "name": "ipython",
    "version": 3
   },
   "file_extension": ".py",
   "mimetype": "text/x-python",
   "name": "python",
   "nbconvert_exporter": "python",
   "pygments_lexer": "ipython3",
   "version": "3.10.14"
  }
 },
 "nbformat": 4,
 "nbformat_minor": 5
}
